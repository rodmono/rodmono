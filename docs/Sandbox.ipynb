{
 "cells": [
  {
   "cell_type": "code",
   "execution_count": 1,
   "id": "bc6cc51d",
   "metadata": {},
   "outputs": [],
   "source": [
    "import os, sys\n",
    "import matplotlib.pyplot as plt\n",
    "import seaborn as sns\n",
    "sns.set_theme()\n",
    "%matplotlib inline\n",
    "\n",
    "import marketdata as md"
   ]
  },
  {
   "cell_type": "code",
   "execution_count": 2,
   "id": "301c0243",
   "metadata": {},
   "outputs": [],
   "source": [
    "# Fixed manually\n",
    "x = ['DAI','USDC','USDT','ETH','BTC','SQETH', 'SOL']\n",
    "y = [\"dai\",\"usd-coin\",\"tether\",\"ethereum\",\"bitcoin\",\"opyn-squeeth\",\"solana\"]\n",
    "\n",
    "stablecoins = dict(zip(x,y))"
   ]
  },
  {
   "cell_type": "code",
   "execution_count": 3,
   "id": "f45a7432",
   "metadata": {},
   "outputs": [
    {
     "data": {
      "text/html": [
       "<div>\n",
       "<style scoped>\n",
       "    .dataframe tbody tr th:only-of-type {\n",
       "        vertical-align: middle;\n",
       "    }\n",
       "\n",
       "    .dataframe tbody tr th {\n",
       "        vertical-align: top;\n",
       "    }\n",
       "\n",
       "    .dataframe thead th {\n",
       "        text-align: right;\n",
       "    }\n",
       "</style>\n",
       "<table border=\"1\" class=\"dataframe\">\n",
       "  <thead>\n",
       "    <tr style=\"text-align: right;\">\n",
       "      <th></th>\n",
       "      <th>dai</th>\n",
       "      <th>usdc</th>\n",
       "      <th>usdt</th>\n",
       "      <th>eth</th>\n",
       "      <th>btc</th>\n",
       "      <th>sqeth</th>\n",
       "      <th>sol</th>\n",
       "    </tr>\n",
       "  </thead>\n",
       "  <tbody>\n",
       "    <tr>\n",
       "      <th>2022-08-11</th>\n",
       "      <td>1.000538</td>\n",
       "      <td>1.000510</td>\n",
       "      <td>1.000595</td>\n",
       "      <td>1852.878555</td>\n",
       "      <td>23948.829553</td>\n",
       "      <td>184.590822</td>\n",
       "      <td>42.295780</td>\n",
       "    </tr>\n",
       "    <tr>\n",
       "      <th>2022-08-12</th>\n",
       "      <td>1.001991</td>\n",
       "      <td>0.999959</td>\n",
       "      <td>0.999916</td>\n",
       "      <td>1881.427405</td>\n",
       "      <td>23948.751704</td>\n",
       "      <td>187.335758</td>\n",
       "      <td>42.752870</td>\n",
       "    </tr>\n",
       "    <tr>\n",
       "      <th>2022-08-13</th>\n",
       "      <td>1.001456</td>\n",
       "      <td>1.000885</td>\n",
       "      <td>1.001999</td>\n",
       "      <td>1959.330925</td>\n",
       "      <td>24411.379872</td>\n",
       "      <td>202.250714</td>\n",
       "      <td>45.340525</td>\n",
       "    </tr>\n",
       "    <tr>\n",
       "      <th>2022-08-14</th>\n",
       "      <td>1.000894</td>\n",
       "      <td>1.001678</td>\n",
       "      <td>1.000588</td>\n",
       "      <td>1982.411828</td>\n",
       "      <td>24433.653747</td>\n",
       "      <td>207.888264</td>\n",
       "      <td>46.627628</td>\n",
       "    </tr>\n",
       "    <tr>\n",
       "      <th>2022-08-15</th>\n",
       "      <td>0.999468</td>\n",
       "      <td>0.999402</td>\n",
       "      <td>0.999533</td>\n",
       "      <td>1936.701164</td>\n",
       "      <td>24312.541425</td>\n",
       "      <td>198.498785</td>\n",
       "      <td>44.977699</td>\n",
       "    </tr>\n",
       "  </tbody>\n",
       "</table>\n",
       "</div>"
      ],
      "text/plain": [
       "                 dai      usdc      usdt          eth           btc  \\\n",
       "2022-08-11  1.000538  1.000510  1.000595  1852.878555  23948.829553   \n",
       "2022-08-12  1.001991  0.999959  0.999916  1881.427405  23948.751704   \n",
       "2022-08-13  1.001456  1.000885  1.001999  1959.330925  24411.379872   \n",
       "2022-08-14  1.000894  1.001678  1.000588  1982.411828  24433.653747   \n",
       "2022-08-15  0.999468  0.999402  0.999533  1936.701164  24312.541425   \n",
       "\n",
       "                 sqeth        sol  \n",
       "2022-08-11  184.590822  42.295780  \n",
       "2022-08-12  187.335758  42.752870  \n",
       "2022-08-13  202.250714  45.340525  \n",
       "2022-08-14  207.888264  46.627628  \n",
       "2022-08-15  198.498785  44.977699  "
      ]
     },
     "execution_count": 3,
     "metadata": {},
     "output_type": "execute_result"
    }
   ],
   "source": [
    "hmd         = md.HistoricalMarketData( y, 'usd', '2021-01-01','2022-08-15').price()\n",
    "hmd.columns = [i.lower() for i in x]\n",
    "hmd         = hmd.fillna(method='bfill')\n",
    "hmd.tail()"
   ]
  },
  {
   "cell_type": "code",
   "execution_count": 4,
   "id": "aabf3da2",
   "metadata": {},
   "outputs": [],
   "source": [
    "# Send to csv\n",
    "hmd.to_csv('market_data.csv')"
   ]
  }
 ],
 "metadata": {
  "kernelspec": {
   "display_name": "Python 3 (ipykernel)",
   "language": "python",
   "name": "python3"
  },
  "language_info": {
   "codemirror_mode": {
    "name": "ipython",
    "version": 3
   },
   "file_extension": ".py",
   "mimetype": "text/x-python",
   "name": "python",
   "nbconvert_exporter": "python",
   "pygments_lexer": "ipython3",
   "version": "3.9.7"
  }
 },
 "nbformat": 4,
 "nbformat_minor": 5
}
